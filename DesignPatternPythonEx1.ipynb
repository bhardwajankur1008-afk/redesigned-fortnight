{
  "nbformat": 4,
  "nbformat_minor": 0,
  "metadata": {
    "colab": {
      "provenance": [],
      "authorship_tag": "ABX9TyNJxr+/JGNj413RA+Wl2kz3",
      "include_colab_link": true
    },
    "kernelspec": {
      "name": "python3",
      "display_name": "Python 3"
    },
    "language_info": {
      "name": "python"
    }
  },
  "cells": [
    {
      "cell_type": "markdown",
      "metadata": {
        "id": "view-in-github",
        "colab_type": "text"
      },
      "source": [
        "<a href=\"https://colab.research.google.com/github/bhardwajankur1008-afk/redesigned-fortnight/blob/main/DesignPatternPythonEx1.ipynb\" target=\"_parent\"><img src=\"https://colab.research.google.com/assets/colab-badge.svg\" alt=\"Open In Colab\"/></a>"
      ]
    },
    {
      "cell_type": "code",
      "source": [
        "from abc import ABC, abstractmethod\n",
        "\n",
        "\n",
        "class DuckBehavior:\n",
        "  @abstractmethod\n",
        "  def make_sound(self):\n",
        "    pass\n",
        "\n",
        "  def fly(self):\n",
        "    pass\n",
        "\n",
        "  def swim(self):\n",
        "    pass\n",
        "\n",
        "\n",
        "class Duck:\n",
        "  count = 0\n",
        "  @classmethod\n",
        "  def increment_count(cls):\n",
        "    cls.count += 1\n",
        "\n",
        "\n",
        "  def __init__(self, name):\n",
        "    self.name = name\n",
        "    Duck.increment_count()\n",
        "\n",
        "  def get_count(self):\n",
        "    return self.count\n",
        "\n",
        "  def make_sound(self):\n",
        "    print(\"Quack! Quack!\")\n",
        "\n",
        "  def show_name(self):\n",
        "    print(f\"My name is {self.name}\")\n",
        "\n",
        "\n",
        "class RedHeadDuck(Duck):\n",
        "  def __init__(self, name):\n",
        "    super().__init__(name)\n",
        "\n",
        "\n",
        "class RubberDuck(Duck, DuckBehavior):\n",
        "  def __init__(self, name):\n",
        "    super().__init__(name)\n",
        "\n",
        "  def make_sound(self):\n",
        "    print(\"Squeak! Squeak!\")\n",
        "\n",
        "  def swim(self):\n",
        "    print(\"I can't swim\")\n",
        "\n",
        "  def fly(self):\n",
        "    print(\"I can't fly\")\n",
        "\n",
        "\n",
        "class DecoyDuck(Duck, DuckBehavior):\n",
        "  def __init__(self, name):\n",
        "    super().__init__(name)\n",
        "\n",
        "  def make_sound(self):\n",
        "    print(\"No sound\")\n",
        "\n",
        "  def swim(self):\n",
        "    print(\"I can swim\")\n",
        "\n",
        "\n",
        "class MallardDuck(Duck):\n",
        "  def __init__(self, name):\n",
        "    super().__init__(name)\n",
        "\n",
        "duck1 = RedHeadDuck(\"Rammy\")\n",
        "duck1.make_sound()\n",
        "duck1.show_name()\n",
        "print('---------')\n",
        "\n",
        "duck2 = RubberDuck(\"Donald\")\n",
        "duck2.make_sound()\n",
        "duck2.show_name()\n",
        "duck2.swim()\n",
        "duck2.fly()\n",
        "print('---------')\n",
        "\n",
        "duck3 = DecoyDuck(\"Javvy\")\n",
        "duck3.make_sound()\n",
        "duck3.show_name()\n",
        "duck3.swim()\n",
        "duck3.fly()\n",
        "print('---------')\n",
        "\n",
        "duck4 = MallardDuck(\"Peter\")\n",
        "duck4.make_sound()\n",
        "duck4.show_name()\n",
        "print('---------')\n",
        "print(f\"Total Duck: {Duck.count}\")\n",
        "\n",
        "\n",
        "\n",
        "\n"
      ],
      "metadata": {
        "colab": {
          "base_uri": "https://localhost:8080/"
        },
        "id": "diJPqoZiX4o5",
        "outputId": "5868a693-3418-4927-f6b9-e301f6620265"
      },
      "execution_count": 7,
      "outputs": [
        {
          "output_type": "stream",
          "name": "stdout",
          "text": [
            "Quack! Quack!\n",
            "My name is Rammy\n",
            "---------\n",
            "Squeak! Squeak!\n",
            "My name is Donald\n",
            "I can't swim\n",
            "I can't fly\n",
            "---------\n",
            "No sound\n",
            "My name is Javvy\n",
            "I can swim\n",
            "---------\n",
            "Quack! Quack!\n",
            "My name is Peter\n",
            "---------\n",
            "Total Duck: 4\n",
            "<class '__main__.DuckBehavior'>\n"
          ]
        }
      ]
    }
  ]
}